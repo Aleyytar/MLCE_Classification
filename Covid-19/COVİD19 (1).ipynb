{
  "nbformat": 4,
  "nbformat_minor": 0,
  "metadata": {
    "colab": {
      "provenance": []
    },
    "kernelspec": {
      "name": "python3",
      "display_name": "Python 3"
    },
    "language_info": {
      "name": "python"
    }
  },
  "cells": [
    {
      "cell_type": "code",
      "source": [
        "pip install catboost"
      ],
      "metadata": {
        "colab": {
          "base_uri": "https://localhost:8080/"
        },
        "id": "dEVTr__ONQWC",
        "outputId": "e67e3051-b731-4379-cbd8-035db01672bd"
      },
      "execution_count": null,
      "outputs": [
        {
          "output_type": "stream",
          "name": "stdout",
          "text": [
            "Requirement already satisfied: catboost in /usr/local/lib/python3.10/dist-packages (1.2.5)\n",
            "Requirement already satisfied: graphviz in /usr/local/lib/python3.10/dist-packages (from catboost) (0.20.3)\n",
            "Requirement already satisfied: matplotlib in /usr/local/lib/python3.10/dist-packages (from catboost) (3.7.1)\n",
            "Requirement already satisfied: numpy>=1.16.0 in /usr/local/lib/python3.10/dist-packages (from catboost) (1.25.2)\n",
            "Requirement already satisfied: pandas>=0.24 in /usr/local/lib/python3.10/dist-packages (from catboost) (2.0.3)\n",
            "Requirement already satisfied: scipy in /usr/local/lib/python3.10/dist-packages (from catboost) (1.11.4)\n",
            "Requirement already satisfied: plotly in /usr/local/lib/python3.10/dist-packages (from catboost) (5.15.0)\n",
            "Requirement already satisfied: six in /usr/local/lib/python3.10/dist-packages (from catboost) (1.16.0)\n",
            "Requirement already satisfied: python-dateutil>=2.8.2 in /usr/local/lib/python3.10/dist-packages (from pandas>=0.24->catboost) (2.8.2)\n",
            "Requirement already satisfied: pytz>=2020.1 in /usr/local/lib/python3.10/dist-packages (from pandas>=0.24->catboost) (2023.4)\n",
            "Requirement already satisfied: tzdata>=2022.1 in /usr/local/lib/python3.10/dist-packages (from pandas>=0.24->catboost) (2024.1)\n",
            "Requirement already satisfied: contourpy>=1.0.1 in /usr/local/lib/python3.10/dist-packages (from matplotlib->catboost) (1.2.1)\n",
            "Requirement already satisfied: cycler>=0.10 in /usr/local/lib/python3.10/dist-packages (from matplotlib->catboost) (0.12.1)\n",
            "Requirement already satisfied: fonttools>=4.22.0 in /usr/local/lib/python3.10/dist-packages (from matplotlib->catboost) (4.51.0)\n",
            "Requirement already satisfied: kiwisolver>=1.0.1 in /usr/local/lib/python3.10/dist-packages (from matplotlib->catboost) (1.4.5)\n",
            "Requirement already satisfied: packaging>=20.0 in /usr/local/lib/python3.10/dist-packages (from matplotlib->catboost) (24.0)\n",
            "Requirement already satisfied: pillow>=6.2.0 in /usr/local/lib/python3.10/dist-packages (from matplotlib->catboost) (9.4.0)\n",
            "Requirement already satisfied: pyparsing>=2.3.1 in /usr/local/lib/python3.10/dist-packages (from matplotlib->catboost) (3.1.2)\n",
            "Requirement already satisfied: tenacity>=6.2.0 in /usr/local/lib/python3.10/dist-packages (from plotly->catboost) (8.3.0)\n"
          ]
        }
      ]
    },
    {
      "cell_type": "code",
      "execution_count": null,
      "metadata": {
        "id": "RTvZgaZBMvsO"
      },
      "outputs": [],
      "source": [
        "import numpy as np\n",
        "import pandas as pd\n",
        "import seaborn as sns\n",
        "import matplotlib.pyplot as plt\n",
        "from sklearn.preprocessing import StandardScaler\n",
        "from imblearn.under_sampling import RandomUnderSampler\n",
        "from sklearn.preprocessing import MinMaxScaler\n",
        "from sklearn.decomposition import PCA\n",
        "from sklearn.model_selection import train_test_split\n",
        "from sklearn.linear_model import LogisticRegression, SGDClassifier\n",
        "from sklearn.ensemble import RandomForestClassifier\n",
        "from sklearn.naive_bayes import GaussianNB\n",
        "from sklearn.neighbors import KNeighborsClassifier\n",
        "from catboost import CatBoostClassifier\n",
        "from xgboost import XGBClassifier\n",
        "from sklearn.model_selection import cross_val_score\n",
        "from sklearn.model_selection import cross_validate\n",
        "from sklearn.metrics import confusion_matrix, f1_score"
      ]
    },
    {
      "cell_type": "code",
      "source": [
        "from google.colab import drive\n",
        "\n",
        "# Google Drive'ı bağlayın\n",
        "drive.mount('/content/drive')"
      ],
      "metadata": {
        "colab": {
          "base_uri": "https://localhost:8080/"
        },
        "id": "GW1AZ1NFM6X3",
        "outputId": "31b76cad-64fe-4485-aa70-cfc2e66a78da"
      },
      "execution_count": null,
      "outputs": [
        {
          "output_type": "stream",
          "name": "stdout",
          "text": [
            "Drive already mounted at /content/drive; to attempt to forcibly remount, call drive.mount(\"/content/drive\", force_remount=True).\n"
          ]
        }
      ]
    },
    {
      "cell_type": "code",
      "source": [
        "df = pd.read_csv(\"/content/drive/MyDrive/Covid Data.csv\" , sep=\",\", encoding='utf-8')"
      ],
      "metadata": {
        "id": "Ry0X_o_UNBfi"
      },
      "execution_count": null,
      "outputs": []
    },
    {
      "cell_type": "code",
      "source": [
        "df.shape"
      ],
      "metadata": {
        "colab": {
          "base_uri": "https://localhost:8080/"
        },
        "id": "z3tz1iS1NwxI",
        "outputId": "fb1b0489-2434-4e87-da8e-3a6b4c1f6878"
      },
      "execution_count": null,
      "outputs": [
        {
          "output_type": "execute_result",
          "data": {
            "text/plain": [
              "(1048575, 21)"
            ]
          },
          "metadata": {},
          "execution_count": 6
        }
      ]
    },
    {
      "cell_type": "code",
      "source": [
        "df.info()"
      ],
      "metadata": {
        "colab": {
          "base_uri": "https://localhost:8080/"
        },
        "id": "EOvUu-8dN1Nu",
        "outputId": "1d0f6931-6a43-40e0-96ad-895f79cbfab5"
      },
      "execution_count": null,
      "outputs": [
        {
          "output_type": "stream",
          "name": "stdout",
          "text": [
            "<class 'pandas.core.frame.DataFrame'>\n",
            "RangeIndex: 1048575 entries, 0 to 1048574\n",
            "Data columns (total 21 columns):\n",
            " #   Column                Non-Null Count    Dtype \n",
            "---  ------                --------------    ----- \n",
            " 0   USMER                 1048575 non-null  int64 \n",
            " 1   MEDICAL_UNIT          1048575 non-null  int64 \n",
            " 2   SEX                   1048575 non-null  int64 \n",
            " 3   PATIENT_TYPE          1048575 non-null  int64 \n",
            " 4   DATE_DIED             1048575 non-null  object\n",
            " 5   INTUBED               1048575 non-null  int64 \n",
            " 6   PNEUMONIA             1048575 non-null  int64 \n",
            " 7   AGE                   1048575 non-null  int64 \n",
            " 8   PREGNANT              1048575 non-null  int64 \n",
            " 9   DIABETES              1048575 non-null  int64 \n",
            " 10  COPD                  1048575 non-null  int64 \n",
            " 11  ASTHMA                1048575 non-null  int64 \n",
            " 12  INMSUPR               1048575 non-null  int64 \n",
            " 13  HIPERTENSION          1048575 non-null  int64 \n",
            " 14  OTHER_DISEASE         1048575 non-null  int64 \n",
            " 15  CARDIOVASCULAR        1048575 non-null  int64 \n",
            " 16  OBESITY               1048575 non-null  int64 \n",
            " 17  RENAL_CHRONIC         1048575 non-null  int64 \n",
            " 18  TOBACCO               1048575 non-null  int64 \n",
            " 19  CLASIFFICATION_FINAL  1048575 non-null  int64 \n",
            " 20  ICU                   1048575 non-null  int64 \n",
            "dtypes: int64(20), object(1)\n",
            "memory usage: 168.0+ MB\n"
          ]
        }
      ]
    },
    {
      "cell_type": "code",
      "source": [
        "df.isnull().sum()"
      ],
      "metadata": {
        "colab": {
          "base_uri": "https://localhost:8080/"
        },
        "id": "AGwbvQ-fOB78",
        "outputId": "21da4db0-de21-4438-80ea-4003451dde88"
      },
      "execution_count": null,
      "outputs": [
        {
          "output_type": "execute_result",
          "data": {
            "text/plain": [
              "USMER                   0\n",
              "MEDICAL_UNIT            0\n",
              "SEX                     0\n",
              "PATIENT_TYPE            0\n",
              "DATE_DIED               0\n",
              "INTUBED                 0\n",
              "PNEUMONIA               0\n",
              "AGE                     0\n",
              "PREGNANT                0\n",
              "DIABETES                0\n",
              "COPD                    0\n",
              "ASTHMA                  0\n",
              "INMSUPR                 0\n",
              "HIPERTENSION            0\n",
              "OTHER_DISEASE           0\n",
              "CARDIOVASCULAR          0\n",
              "OBESITY                 0\n",
              "RENAL_CHRONIC           0\n",
              "TOBACCO                 0\n",
              "CLASIFFICATION_FINAL    0\n",
              "ICU                     0\n",
              "dtype: int64"
            ]
          },
          "metadata": {},
          "execution_count": 8
        }
      ]
    },
    {
      "cell_type": "code",
      "source": [
        "df.PREGNANT = df.PREGNANT.replace(97, 2) #Replace 97 with not pregnant.\n",
        "df.PREGNANT = df.PREGNANT.replace(98, 2)"
      ],
      "metadata": {
        "id": "U5R-ek12OHwD"
      },
      "execution_count": null,
      "outputs": []
    },
    {
      "cell_type": "code",
      "source": [
        "f = df[(df.PNEUMONIA == 1) | (df.PNEUMONIA == 2)]\n",
        "df = df[(df.DIABETES == 1) | (df.DIABETES == 2)]\n",
        "df = df[(df.COPD == 1) | (df.COPD == 2)]\n",
        "df = df[(df.ASTHMA == 1) | (df.ASTHMA == 2)]\n",
        "df = df[(df.INMSUPR == 1) | (df.INMSUPR == 2)]\n",
        "df = df[(df.HIPERTENSION == 1) | (df.HIPERTENSION == 2)]\n",
        "df = df[(df.OTHER_DISEASE == 1) | (df.OTHER_DISEASE == 2)]\n",
        "df = df[(df.CARDIOVASCULAR == 1) | (df.CARDIOVASCULAR == 2)]\n",
        "df = df[(df.OBESITY == 1) | (df.OBESITY == 2)]\n",
        "df = df[(df.RENAL_CHRONIC == 1) | (df.RENAL_CHRONIC == 2)]\n",
        "df = df[(df.TOBACCO == 1) | (df.TOBACCO == 2)]"
      ],
      "metadata": {
        "id": "ZtsDD5xkOVpB"
      },
      "execution_count": null,
      "outputs": []
    },
    {
      "cell_type": "code",
      "source": [
        "print(df['ICU'].value_counts())\n",
        "print(df['INTUBED'].value_counts())"
      ],
      "metadata": {
        "colab": {
          "base_uri": "https://localhost:8080/"
        },
        "id": "1m0P9N3XOaBq",
        "outputId": "c654c8f3-fac5-4f2a-95cb-912f23bc8855"
      },
      "execution_count": null,
      "outputs": [
        {
          "output_type": "stream",
          "name": "stdout",
          "text": [
            "ICU\n",
            "97    844063\n",
            "2     173154\n",
            "1      16434\n",
            "99      7362\n",
            "Name: count, dtype: int64\n",
            "INTUBED\n",
            "97    844063\n",
            "2     156712\n",
            "1      33034\n",
            "99      7204\n",
            "Name: count, dtype: int64\n"
          ]
        }
      ]
    },
    {
      "cell_type": "code",
      "source": [
        "df.drop(['ICU', 'INTUBED'], axis=1, inplace=True)"
      ],
      "metadata": {
        "id": "Z_h69Q9lOytj"
      },
      "execution_count": null,
      "outputs": []
    },
    {
      "cell_type": "code",
      "source": [
        "df['DEATH'] = [2 if row=='9999-99-99' else 1 for row in df['DATE_DIED']]"
      ],
      "metadata": {
        "id": "4wemOT1yOe1e"
      },
      "execution_count": null,
      "outputs": []
    },
    {
      "cell_type": "code",
      "source": [
        "df.drop('DATE_DIED', axis=1, inplace=True)"
      ],
      "metadata": {
        "id": "HRGc8D0aOhMf"
      },
      "execution_count": null,
      "outputs": []
    },
    {
      "cell_type": "code",
      "source": [
        "\n",
        "X = df.drop('DEATH', axis=1)\n",
        "y = df['DEATH']"
      ],
      "metadata": {
        "id": "Gev-3qKuOlsm"
      },
      "execution_count": null,
      "outputs": []
    },
    {
      "cell_type": "code",
      "source": [
        "sampler = RandomUnderSampler(random_state=42)\n",
        "X_sampled, y_sampled = sampler.fit_resample(X, y)\n",
        "print(y_sampled.value_counts())"
      ],
      "metadata": {
        "colab": {
          "base_uri": "https://localhost:8080/"
        },
        "id": "LikGcPnIOqCo",
        "outputId": "c664e356-429e-45b0-cc65-705e478b27ad"
      },
      "execution_count": null,
      "outputs": [
        {
          "output_type": "stream",
          "name": "stdout",
          "text": [
            "DEATH\n",
            "1    75420\n",
            "2    75420\n",
            "Name: count, dtype: int64\n"
          ]
        }
      ]
    },
    {
      "cell_type": "code",
      "source": [
        "df.info()"
      ],
      "metadata": {
        "colab": {
          "base_uri": "https://localhost:8080/"
        },
        "id": "GFbQrzmxSeke",
        "outputId": "9555087e-ff02-447c-ddbd-016aa4db9529"
      },
      "execution_count": null,
      "outputs": [
        {
          "output_type": "stream",
          "name": "stdout",
          "text": [
            "<class 'pandas.core.frame.DataFrame'>\n",
            "Index: 1041013 entries, 0 to 1048574\n",
            "Data columns (total 19 columns):\n",
            " #   Column                Non-Null Count    Dtype\n",
            "---  ------                --------------    -----\n",
            " 0   USMER                 1041013 non-null  int64\n",
            " 1   MEDICAL_UNIT          1041013 non-null  int64\n",
            " 2   SEX                   1041013 non-null  int64\n",
            " 3   PATIENT_TYPE          1041013 non-null  int64\n",
            " 4   PNEUMONIA             1041013 non-null  int64\n",
            " 5   AGE                   1041013 non-null  int64\n",
            " 6   PREGNANT              1041013 non-null  int64\n",
            " 7   DIABETES              1041013 non-null  int64\n",
            " 8   COPD                  1041013 non-null  int64\n",
            " 9   ASTHMA                1041013 non-null  int64\n",
            " 10  INMSUPR               1041013 non-null  int64\n",
            " 11  HIPERTENSION          1041013 non-null  int64\n",
            " 12  OTHER_DISEASE         1041013 non-null  int64\n",
            " 13  CARDIOVASCULAR        1041013 non-null  int64\n",
            " 14  OBESITY               1041013 non-null  int64\n",
            " 15  RENAL_CHRONIC         1041013 non-null  int64\n",
            " 16  TOBACCO               1041013 non-null  int64\n",
            " 17  CLASIFFICATION_FINAL  1041013 non-null  int64\n",
            " 18  DEATH                 1041013 non-null  int64\n",
            "dtypes: int64(19)\n",
            "memory usage: 158.8 MB\n"
          ]
        }
      ]
    },
    {
      "cell_type": "code",
      "source": [
        "scaler = MinMaxScaler()\n",
        "\n",
        "# Veri setinizdeki sayısal sütunları seçin ve ölçeklendirin\n",
        "numerical_columns = df.select_dtypes(include=['float64', 'int64']).columns\n",
        "df[numerical_columns] = scaler.fit_transform(df[numerical_columns])"
      ],
      "metadata": {
        "id": "yq2X4rXSTK31"
      },
      "execution_count": null,
      "outputs": []
    },
    {
      "cell_type": "markdown",
      "source": [],
      "metadata": {
        "id": "JNx-Ii11SeIR"
      }
    },
    {
      "cell_type": "code",
      "source": [
        "X_train, X_test, y_train, y_test = train_test_split(X_sampled, y_sampled, test_size=0.2, random_state=42)\n",
        "print('X train :', X_train.shape)\n",
        "print('X test :', X_test.shape)\n",
        "print('y train :', y_train.shape)\n",
        "print('y test :', y_test.shape)"
      ],
      "metadata": {
        "colab": {
          "base_uri": "https://localhost:8080/"
        },
        "id": "ygDdpdKRO2TX",
        "outputId": "2dcf2cfe-c03a-476c-fb3d-e16fbd4af2ae"
      },
      "execution_count": null,
      "outputs": [
        {
          "output_type": "stream",
          "name": "stdout",
          "text": [
            "X train : (120672, 18)\n",
            "X test : (30168, 18)\n",
            "y train : (120672,)\n",
            "y test : (30168,)\n"
          ]
        }
      ]
    },
    {
      "cell_type": "code",
      "source": [
        "def scaling(data):\n",
        "    scaler = StandardScaler()\n",
        "    data['AGE'] = scaler.fit_transform(data.loc[:,['AGE']])\n",
        "    return data\n",
        "\n",
        "X_train_scaled = scaling(X_train)\n",
        "X_test_scaled = scaling(X_test)\n"
      ],
      "metadata": {
        "id": "Kt8NTQUJPBsR"
      },
      "execution_count": null,
      "outputs": []
    },
    {
      "cell_type": "code",
      "source": [
        "def metric(algorithm_name, y_true, preds):\n",
        "\n",
        "\n",
        "    print(f'Model Ismı {algorithm_name}')\n",
        "    print('='*50)\n",
        "    cm = confusion_matrix(y_true, preds)\n",
        "    F1 = f1_score(y_true, preds)\n",
        "    total = sum(sum(cm))\n",
        "    accuracy = (cm[0,0] + cm[1,1])/total\n",
        "    sensitivity = cm[0,0]/(cm[0,0] + cm[0,1])\n",
        "    specificity = cm[1,1]/(cm[1,0]+cm[1,1])\n",
        "    print(f'\\nThe confusion Matrix  :\\n{cm}')\n",
        "    print(f'\\nThe F1 Score          : {F1}')\n",
        "    print(f'\\nThe accuracy          : {accuracy}')\n",
        "    print(f'\\nThe sensitivity       : {sensitivity}')\n",
        "    print(f'\\nThe specificity       : {specificity}')\n",
        "    print('='*50)\n"
      ],
      "metadata": {
        "id": "2DnCsG1PPWae"
      },
      "execution_count": null,
      "outputs": []
    },
    {
      "cell_type": "code",
      "source": [
        "logistic = LogisticRegression(max_iter=1000)\n",
        "logistic.fit(X_train_scaled, y_train)\n",
        "preds_lr = logistic.predict(X_test_scaled)\n",
        "metric('Logistic Regression', y_test, preds_lr)"
      ],
      "metadata": {
        "colab": {
          "base_uri": "https://localhost:8080/"
        },
        "id": "MSP1FiejPYe-",
        "outputId": "e49ec09a-5933-45f1-dc73-0857216d7954"
      },
      "execution_count": null,
      "outputs": [
        {
          "output_type": "stream",
          "name": "stdout",
          "text": [
            "Model Ismı Logistic Regression\n",
            "==================================================\n",
            "\n",
            "The confusion Matrix  :\n",
            "[[13683  1365]\n",
            " [ 1752 13368]]\n",
            "\n",
            "The F1 Score          : 0.8977462848144867\n",
            "\n",
            "The accuracy          : 0.896678599840891\n",
            "\n",
            "The sensitivity       : 0.9092902711323764\n",
            "\n",
            "The specificity       : 0.8841269841269841\n",
            "==================================================\n"
          ]
        }
      ]
    },
    {
      "cell_type": "code",
      "source": [
        "Naive_Bayes = GaussianNB()\n",
        "Naive_Bayes.fit(X_train_scaled,y_train)\n",
        "preds_Bayes = Naive_Bayes.predict(X_test_scaled)\n",
        "metric('GaussianNB', y_test, preds_Bayes)"
      ],
      "metadata": {
        "colab": {
          "base_uri": "https://localhost:8080/"
        },
        "id": "V9bBoF-hPgsT",
        "outputId": "28233116-460e-4dc7-9cb2-2a96696a94c9"
      },
      "execution_count": null,
      "outputs": [
        {
          "output_type": "stream",
          "name": "stdout",
          "text": [
            "Model Ismı GaussianNB\n",
            "==================================================\n",
            "\n",
            "The confusion Matrix  :\n",
            "[[13042  2006]\n",
            " [ 2107 13013]]\n",
            "\n",
            "The F1 Score          : 0.8637944166639071\n",
            "\n",
            "The accuracy          : 0.8636634844868735\n",
            "\n",
            "The sensitivity       : 0.8666932482721956\n",
            "\n",
            "The specificity       : 0.8606481481481482\n",
            "==================================================\n"
          ]
        }
      ]
    },
    {
      "cell_type": "code",
      "source": [
        "KNN = KNeighborsClassifier(n_neighbors=13,metric=\"minkowski\")\n",
        "KNN.fit(X_train_scaled, y_train)\n",
        "preds_KNN = KNN.predict(X_test_scaled)\n",
        "metric('KNN', y_test, preds_KNN)"
      ],
      "metadata": {
        "colab": {
          "base_uri": "https://localhost:8080/"
        },
        "id": "AJsvKSeRQ4nd",
        "outputId": "91132db8-4141-47de-fb78-4872a30ad2cb"
      },
      "execution_count": null,
      "outputs": [
        {
          "output_type": "stream",
          "name": "stdout",
          "text": [
            "Model Ismı KNN\n",
            "==================================================\n",
            "\n",
            "The confusion Matrix  :\n",
            "[[14254   794]\n",
            " [ 1878 13242]]\n",
            "\n",
            "The F1 Score          : 0.9143040410519564\n",
            "\n",
            "The accuracy          : 0.911429329090427\n",
            "\n",
            "The sensitivity       : 0.9472355130249868\n",
            "\n",
            "The specificity       : 0.8757936507936508\n",
            "==================================================\n"
          ]
        }
      ]
    },
    {
      "cell_type": "code",
      "source": [
        "from sklearn.neighbors import KNeighborsClassifier\n",
        "from sklearn.tree import DecisionTreeClassifier\n",
        "from sklearn.ensemble import RandomForestClassifier, GradientBoostingClassifier, AdaBoostClassifier\n",
        "from sklearn.linear_model import LogisticRegression, SGDClassifier\n",
        "from sklearn.svm import SVC, LinearSVC\n",
        "from sklearn.naive_bayes import GaussianNB\n",
        "from sklearn.metrics import accuracy_score, precision_score, recall_score, f1_score\n",
        "\n",
        "# Modellerin tanımlanması\n",
        "models = {\n",
        "    \"KNN\": KNeighborsClassifier(n_neighbors=13, metric=\"minkowski\"),\n",
        "    \"DecisionTree\": DecisionTreeClassifier(max_depth=5, max_features=4),\n",
        "    \"RandomForest\": RandomForestClassifier(),\n",
        "    \"GradientBoosting\": GradientBoostingClassifier(),\n",
        "    \"AdaBoost\": AdaBoostClassifier(),\n",
        "    \"LogisticRegression\": LogisticRegression(max_iter=10),\n",
        "    \"SGDClassifier\": SGDClassifier(),\n",
        "    \"SVM\": SVC(),\n",
        "    \"LinearSVC\": LinearSVC(),\n",
        "    \"GaussianNB\": GaussianNB()\n",
        "}\n",
        "\n",
        "# Model listesinin oluşturulması\n",
        "model_list = []\n",
        "\n",
        "# Modellerin eğitilmesi ve çıktılarının alınması\n",
        "for name, model in models.items():\n",
        "    model.fit(X_train_scaled, y_train)\n",
        "    preds = model.predict(X_test_scaled)\n",
        "    accuracy = accuracy_score(y_test, preds)\n",
        "    precision = precision_score(y_test, preds)\n",
        "    recall = recall_score(y_test, preds)\n",
        "    f1 = f1_score(y_test, preds)\n",
        "    model_list.append({\n",
        "        \"Name\": name,\n",
        "        \"Accuracy\": accuracy,\n",
        "        \"Precision\": precision,\n",
        "        \"Recall\": recall,\n",
        "        \"F1 Score\": f1\n",
        "    })\n",
        "\n",
        "# Model sonuçlarının gösterilmesi\n",
        "for model_result in model_list:\n",
        "    print(model_result)"
      ],
      "metadata": {
        "colab": {
          "base_uri": "https://localhost:8080/"
        },
        "id": "ivs-ksACVFd8",
        "outputId": "302f22b3-9db6-48d8-bbcb-8829453be3f7"
      },
      "execution_count": null,
      "outputs": [
        {
          "output_type": "stream",
          "name": "stderr",
          "text": [
            "/usr/local/lib/python3.10/dist-packages/sklearn/linear_model/_logistic.py:458: ConvergenceWarning: lbfgs failed to converge (status=1):\n",
            "STOP: TOTAL NO. of ITERATIONS REACHED LIMIT.\n",
            "\n",
            "Increase the number of iterations (max_iter) or scale the data as shown in:\n",
            "    https://scikit-learn.org/stable/modules/preprocessing.html\n",
            "Please also refer to the documentation for alternative solver options:\n",
            "    https://scikit-learn.org/stable/modules/linear_model.html#logistic-regression\n",
            "  n_iter_i = _check_optimize_result(\n",
            "/usr/local/lib/python3.10/dist-packages/sklearn/svm/_base.py:1244: ConvergenceWarning: Liblinear failed to converge, increase the number of iterations.\n",
            "  warnings.warn(\n"
          ]
        },
        {
          "output_type": "stream",
          "name": "stdout",
          "text": [
            "{'Name': 'KNN', 'Accuracy': 0.911429329090427, 'Precision': 0.883585420282668, 'Recall': 0.9472355130249868, 'F1 Score': 0.9143040410519564}\n",
            "{'Name': 'DecisionTree', 'Accuracy': 0.8698289578361177, 'Precision': 0.8602526724975704, 'Recall': 0.8823763955342903, 'F1 Score': 0.8711740970376931}\n",
            "{'Name': 'RandomForest', 'Accuracy': 0.9013192787059136, 'Precision': 0.8806205461310462, 'Recall': 0.9279638490164805, 'F1 Score': 0.9036725448956479}\n",
            "{'Name': 'GradientBoosting', 'Accuracy': 0.9138491116414744, 'Precision': 0.8860633877070024, 'Recall': 0.9493620414673046, 'F1 Score': 0.9166212184402169}\n",
            "{'Name': 'AdaBoost', 'Accuracy': 0.9015513126491647, 'Precision': 0.895896158384686, 'Recall': 0.9081605528973951, 'F1 Score': 0.9019866675466967}\n",
            "{'Name': 'LogisticRegression', 'Accuracy': 0.8170578095995757, 'Precision': 0.7986585595185859, 'Recall': 0.8466905901116427, 'F1 Score': 0.8219734847262993}\n",
            "{'Name': 'SGDClassifier', 'Accuracy': 0.8850106072659772, 'Precision': 0.8647388647388647, 'Recall': 0.912147793726741, 'F1 Score': 0.8878108728695707}\n",
            "{'Name': 'SVM', 'Accuracy': 0.890977194378149, 'Precision': 0.8727099841521394, 'Recall': 0.914872408293461, 'F1 Score': 0.8932939687895403}\n",
            "{'Name': 'LinearSVC', 'Accuracy': 0.8917395916202598, 'Precision': 0.8771929824561403, 'Recall': 0.9104199893673578, 'F1 Score': 0.8934976847322769}\n",
            "{'Name': 'GaussianNB', 'Accuracy': 0.8636634844868735, 'Precision': 0.8609149118753713, 'Recall': 0.8666932482721956, 'F1 Score': 0.8637944166639071}\n"
          ]
        }
      ]
    },
    {
      "cell_type": "code",
      "source": [
        "\n",
        "results_df = pd.DataFrame(model_list)\n",
        "\n",
        "# DataFrame'in model ismine göre sıralanması\n",
        "results_df = results_df.set_index(\"Name\")\n",
        "\n",
        "# Sonuçların gösterilmesi\n",
        "\n",
        "styled_df = results_df.style.background_gradient(cmap='coolwarm')\n",
        "styled_df"
      ],
      "metadata": {
        "colab": {
          "base_uri": "https://localhost:8080/",
          "height": 394
        },
        "id": "gd7o3a1_YdK0",
        "outputId": "7d86adf9-b90a-456b-f474-5fd8caa2d165"
      },
      "execution_count": null,
      "outputs": [
        {
          "output_type": "execute_result",
          "data": {
            "text/plain": [
              "<pandas.io.formats.style.Styler at 0x7901087947f0>"
            ],
            "text/html": [
              "<style type=\"text/css\">\n",
              "#T_fa74b_row0_col0, #T_fa74b_row0_col3 {\n",
              "  background-color: #bd1f2d;\n",
              "  color: #f1f1f1;\n",
              "}\n",
              "#T_fa74b_row0_col1, #T_fa74b_row4_col0 {\n",
              "  background-color: #de614d;\n",
              "  color: #f1f1f1;\n",
              "}\n",
              "#T_fa74b_row0_col2 {\n",
              "  background-color: #bb1b2c;\n",
              "  color: #f1f1f1;\n",
              "}\n",
              "#T_fa74b_row1_col0 {\n",
              "  background-color: #e8d6cc;\n",
              "  color: #000000;\n",
              "}\n",
              "#T_fa74b_row1_col1 {\n",
              "  background-color: #f5c1a9;\n",
              "  color: #000000;\n",
              "}\n",
              "#T_fa74b_row1_col2 {\n",
              "  background-color: #aec9fc;\n",
              "  color: #000000;\n",
              "}\n",
              "#T_fa74b_row1_col3 {\n",
              "  background-color: #e2dad5;\n",
              "  color: #000000;\n",
              "}\n",
              "#T_fa74b_row2_col0 {\n",
              "  background-color: #df634e;\n",
              "  color: #f1f1f1;\n",
              "}\n",
              "#T_fa74b_row2_col1 {\n",
              "  background-color: #e57058;\n",
              "  color: #f1f1f1;\n",
              "}\n",
              "#T_fa74b_row2_col2 {\n",
              "  background-color: #ef886b;\n",
              "  color: #f1f1f1;\n",
              "}\n",
              "#T_fa74b_row2_col3 {\n",
              "  background-color: #e16751;\n",
              "  color: #f1f1f1;\n",
              "}\n",
              "#T_fa74b_row3_col0, #T_fa74b_row3_col2, #T_fa74b_row3_col3, #T_fa74b_row4_col1 {\n",
              "  background-color: #b40426;\n",
              "  color: #f1f1f1;\n",
              "}\n",
              "#T_fa74b_row3_col1 {\n",
              "  background-color: #d65244;\n",
              "  color: #f1f1f1;\n",
              "}\n",
              "#T_fa74b_row4_col2 {\n",
              "  background-color: #f2cbb7;\n",
              "  color: #000000;\n",
              "}\n",
              "#T_fa74b_row4_col3 {\n",
              "  background-color: #e46e56;\n",
              "  color: #f1f1f1;\n",
              "}\n",
              "#T_fa74b_row5_col0, #T_fa74b_row5_col1, #T_fa74b_row5_col2, #T_fa74b_row5_col3 {\n",
              "  background-color: #3b4cc0;\n",
              "  color: #f1f1f1;\n",
              "}\n",
              "#T_fa74b_row6_col0 {\n",
              "  background-color: #f7ac8e;\n",
              "  color: #000000;\n",
              "}\n",
              "#T_fa74b_row6_col1 {\n",
              "  background-color: #f7b497;\n",
              "  color: #000000;\n",
              "}\n",
              "#T_fa74b_row6_col2, #T_fa74b_row9_col1 {\n",
              "  background-color: #f5c0a7;\n",
              "  color: #000000;\n",
              "}\n",
              "#T_fa74b_row6_col3 {\n",
              "  background-color: #f7ad90;\n",
              "  color: #000000;\n",
              "}\n",
              "#T_fa74b_row7_col0 {\n",
              "  background-color: #f39475;\n",
              "  color: #000000;\n",
              "}\n",
              "#T_fa74b_row7_col1 {\n",
              "  background-color: #f39577;\n",
              "  color: #000000;\n",
              "}\n",
              "#T_fa74b_row7_col2 {\n",
              "  background-color: #f7b89c;\n",
              "  color: #000000;\n",
              "}\n",
              "#T_fa74b_row7_col3 {\n",
              "  background-color: #f4987a;\n",
              "  color: #000000;\n",
              "}\n",
              "#T_fa74b_row8_col0 {\n",
              "  background-color: #f29072;\n",
              "  color: #f1f1f1;\n",
              "}\n",
              "#T_fa74b_row8_col1 {\n",
              "  background-color: #ec8165;\n",
              "  color: #f1f1f1;\n",
              "}\n",
              "#T_fa74b_row8_col2 {\n",
              "  background-color: #f4c6af;\n",
              "  color: #000000;\n",
              "}\n",
              "#T_fa74b_row8_col3 {\n",
              "  background-color: #f39778;\n",
              "  color: #000000;\n",
              "}\n",
              "#T_fa74b_row9_col0 {\n",
              "  background-color: #d8dce2;\n",
              "  color: #000000;\n",
              "}\n",
              "#T_fa74b_row9_col2 {\n",
              "  background-color: #799cf8;\n",
              "  color: #f1f1f1;\n",
              "}\n",
              "#T_fa74b_row9_col3 {\n",
              "  background-color: #cdd9ec;\n",
              "  color: #000000;\n",
              "}\n",
              "</style>\n",
              "<table id=\"T_fa74b\" class=\"dataframe\">\n",
              "  <thead>\n",
              "    <tr>\n",
              "      <th class=\"blank level0\" >&nbsp;</th>\n",
              "      <th id=\"T_fa74b_level0_col0\" class=\"col_heading level0 col0\" >Accuracy</th>\n",
              "      <th id=\"T_fa74b_level0_col1\" class=\"col_heading level0 col1\" >Precision</th>\n",
              "      <th id=\"T_fa74b_level0_col2\" class=\"col_heading level0 col2\" >Recall</th>\n",
              "      <th id=\"T_fa74b_level0_col3\" class=\"col_heading level0 col3\" >F1 Score</th>\n",
              "    </tr>\n",
              "    <tr>\n",
              "      <th class=\"index_name level0\" >Name</th>\n",
              "      <th class=\"blank col0\" >&nbsp;</th>\n",
              "      <th class=\"blank col1\" >&nbsp;</th>\n",
              "      <th class=\"blank col2\" >&nbsp;</th>\n",
              "      <th class=\"blank col3\" >&nbsp;</th>\n",
              "    </tr>\n",
              "  </thead>\n",
              "  <tbody>\n",
              "    <tr>\n",
              "      <th id=\"T_fa74b_level0_row0\" class=\"row_heading level0 row0\" >KNN</th>\n",
              "      <td id=\"T_fa74b_row0_col0\" class=\"data row0 col0\" >0.911429</td>\n",
              "      <td id=\"T_fa74b_row0_col1\" class=\"data row0 col1\" >0.883585</td>\n",
              "      <td id=\"T_fa74b_row0_col2\" class=\"data row0 col2\" >0.947236</td>\n",
              "      <td id=\"T_fa74b_row0_col3\" class=\"data row0 col3\" >0.914304</td>\n",
              "    </tr>\n",
              "    <tr>\n",
              "      <th id=\"T_fa74b_level0_row1\" class=\"row_heading level0 row1\" >DecisionTree</th>\n",
              "      <td id=\"T_fa74b_row1_col0\" class=\"data row1 col0\" >0.869829</td>\n",
              "      <td id=\"T_fa74b_row1_col1\" class=\"data row1 col1\" >0.860253</td>\n",
              "      <td id=\"T_fa74b_row1_col2\" class=\"data row1 col2\" >0.882376</td>\n",
              "      <td id=\"T_fa74b_row1_col3\" class=\"data row1 col3\" >0.871174</td>\n",
              "    </tr>\n",
              "    <tr>\n",
              "      <th id=\"T_fa74b_level0_row2\" class=\"row_heading level0 row2\" >RandomForest</th>\n",
              "      <td id=\"T_fa74b_row2_col0\" class=\"data row2 col0\" >0.901319</td>\n",
              "      <td id=\"T_fa74b_row2_col1\" class=\"data row2 col1\" >0.880621</td>\n",
              "      <td id=\"T_fa74b_row2_col2\" class=\"data row2 col2\" >0.927964</td>\n",
              "      <td id=\"T_fa74b_row2_col3\" class=\"data row2 col3\" >0.903673</td>\n",
              "    </tr>\n",
              "    <tr>\n",
              "      <th id=\"T_fa74b_level0_row3\" class=\"row_heading level0 row3\" >GradientBoosting</th>\n",
              "      <td id=\"T_fa74b_row3_col0\" class=\"data row3 col0\" >0.913849</td>\n",
              "      <td id=\"T_fa74b_row3_col1\" class=\"data row3 col1\" >0.886063</td>\n",
              "      <td id=\"T_fa74b_row3_col2\" class=\"data row3 col2\" >0.949362</td>\n",
              "      <td id=\"T_fa74b_row3_col3\" class=\"data row3 col3\" >0.916621</td>\n",
              "    </tr>\n",
              "    <tr>\n",
              "      <th id=\"T_fa74b_level0_row4\" class=\"row_heading level0 row4\" >AdaBoost</th>\n",
              "      <td id=\"T_fa74b_row4_col0\" class=\"data row4 col0\" >0.901551</td>\n",
              "      <td id=\"T_fa74b_row4_col1\" class=\"data row4 col1\" >0.895896</td>\n",
              "      <td id=\"T_fa74b_row4_col2\" class=\"data row4 col2\" >0.908161</td>\n",
              "      <td id=\"T_fa74b_row4_col3\" class=\"data row4 col3\" >0.901987</td>\n",
              "    </tr>\n",
              "    <tr>\n",
              "      <th id=\"T_fa74b_level0_row5\" class=\"row_heading level0 row5\" >LogisticRegression</th>\n",
              "      <td id=\"T_fa74b_row5_col0\" class=\"data row5 col0\" >0.817058</td>\n",
              "      <td id=\"T_fa74b_row5_col1\" class=\"data row5 col1\" >0.798659</td>\n",
              "      <td id=\"T_fa74b_row5_col2\" class=\"data row5 col2\" >0.846691</td>\n",
              "      <td id=\"T_fa74b_row5_col3\" class=\"data row5 col3\" >0.821973</td>\n",
              "    </tr>\n",
              "    <tr>\n",
              "      <th id=\"T_fa74b_level0_row6\" class=\"row_heading level0 row6\" >SGDClassifier</th>\n",
              "      <td id=\"T_fa74b_row6_col0\" class=\"data row6 col0\" >0.885011</td>\n",
              "      <td id=\"T_fa74b_row6_col1\" class=\"data row6 col1\" >0.864739</td>\n",
              "      <td id=\"T_fa74b_row6_col2\" class=\"data row6 col2\" >0.912148</td>\n",
              "      <td id=\"T_fa74b_row6_col3\" class=\"data row6 col3\" >0.887811</td>\n",
              "    </tr>\n",
              "    <tr>\n",
              "      <th id=\"T_fa74b_level0_row7\" class=\"row_heading level0 row7\" >SVM</th>\n",
              "      <td id=\"T_fa74b_row7_col0\" class=\"data row7 col0\" >0.890977</td>\n",
              "      <td id=\"T_fa74b_row7_col1\" class=\"data row7 col1\" >0.872710</td>\n",
              "      <td id=\"T_fa74b_row7_col2\" class=\"data row7 col2\" >0.914872</td>\n",
              "      <td id=\"T_fa74b_row7_col3\" class=\"data row7 col3\" >0.893294</td>\n",
              "    </tr>\n",
              "    <tr>\n",
              "      <th id=\"T_fa74b_level0_row8\" class=\"row_heading level0 row8\" >LinearSVC</th>\n",
              "      <td id=\"T_fa74b_row8_col0\" class=\"data row8 col0\" >0.891740</td>\n",
              "      <td id=\"T_fa74b_row8_col1\" class=\"data row8 col1\" >0.877193</td>\n",
              "      <td id=\"T_fa74b_row8_col2\" class=\"data row8 col2\" >0.910420</td>\n",
              "      <td id=\"T_fa74b_row8_col3\" class=\"data row8 col3\" >0.893498</td>\n",
              "    </tr>\n",
              "    <tr>\n",
              "      <th id=\"T_fa74b_level0_row9\" class=\"row_heading level0 row9\" >GaussianNB</th>\n",
              "      <td id=\"T_fa74b_row9_col0\" class=\"data row9 col0\" >0.863663</td>\n",
              "      <td id=\"T_fa74b_row9_col1\" class=\"data row9 col1\" >0.860915</td>\n",
              "      <td id=\"T_fa74b_row9_col2\" class=\"data row9 col2\" >0.866693</td>\n",
              "      <td id=\"T_fa74b_row9_col3\" class=\"data row9 col3\" >0.863794</td>\n",
              "    </tr>\n",
              "  </tbody>\n",
              "</table>\n"
            ]
          },
          "metadata": {},
          "execution_count": 26
        }
      ]
    },
    {
      "cell_type": "markdown",
      "source": [
        "CrossValid"
      ],
      "metadata": {
        "id": "2bUAn6nCbawQ"
      }
    },
    {
      "cell_type": "code",
      "source": [
        "from sklearn.model_selection import cross_validate\n",
        "\n",
        "CrossValidResult = []\n",
        "\n",
        "# Her model için çapraz doğrulama sonuçlarını hesaplayalım\n",
        "for model in models.values():\n",
        "    cv_results = cross_validate(model, X, y, cv=5,\n",
        "                                scoring={'precision': 'precision',\n",
        "                                         'recall': 'recall',\n",
        "                                         'f1': 'f1',\n",
        "                                         'accuracy': 'accuracy',\n",
        "                                         'roc_auc': 'roc_auc',\n",
        "                                         'average_precision': 'average_precision',\n",
        "                                         'neg_brier_score': 'neg_brier_score'})\n",
        "\n",
        "    # Çapraz doğrulama sonuçlarını bir sözlük olarak saklayalım\n",
        "    model_results = {\n",
        "        'Model': type(model).__name__,\n",
        "        'Precision': cv_results['test_precision'].mean(),\n",
        "        'Recall': cv_results['test_recall'].mean(),\n",
        "        'F1': cv_results['test_f1'].mean(),\n",
        "        'Accuracy': cv_results['test_accuracy'].mean(),\n",
        "        'ROC AUC': cv_results['test_roc_auc'].mean(),\n",
        "        'Average Precision': cv_results['test_average_precision'].mean(),\n",
        "        'Neg Brier Score': cv_results['test_neg_brier_score'].mean()\n",
        "    }\n",
        "\n",
        "    CrossValidResult.append(model_results)\n",
        "\n",
        "# Sonuçları DataFrame'e çevirerek yazdıralım\n",
        "CrossValidResult_df = pd.DataFrame(CrossValidResult)\n",
        "\n",
        "# Sonuçların gösterilmesi ve arka plan renklendirmesi\n",
        "styled_cv_df = CrossValidResult_df.style.background_gradient(cmap='coolwarm')\n",
        "styled_cv_df"
      ],
      "metadata": {
        "id": "fzuwOLiXbdRh"
      },
      "execution_count": null,
      "outputs": []
    }
  ]
}